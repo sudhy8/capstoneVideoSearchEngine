{
 "cells": [
  {
   "cell_type": "code",
   "execution_count": 21,
   "metadata": {},
   "outputs": [
    {
     "name": "stdout",
     "output_type": "stream",
     "text": [
      "Existing buckets:\n",
      "  invideosearchbucket\n"
     ]
    }
   ],
   "source": [
    "import boto3\n",
    "\n",
    "# Specify your AWS credentials\n",
    "aws_access_key_id = 'yyyyyyyyy'\n",
    "aws_secret_access_key = 'xxxxxxx'\n",
    "# Create an S3 client with your credentials\n",
    "s3 = boto3.client('s3', \n",
    "                  aws_access_key_id=aws_access_key_id, \n",
    "                  aws_secret_access_key=aws_secret_access_key, \n",
    "                  )\n",
    "# List all buckets\n",
    "response = s3.list_buckets()\n",
    "\n",
    "# Print out the bucket names\n",
    "print('Existing buckets:')\n",
    "for bucket in response['Buckets']:\n",
    "    print(f'  {bucket[\"Name\"]}')"
   ]
  },
  {
   "cell_type": "code",
   "execution_count": 38,
   "metadata": {},
   "outputs": [
    {
     "name": "stdout",
     "output_type": "stream",
     "text": [
      "Moana.mp4 uploaded successfully. URL: https://invideosearchbucket.s3.amazonaws.com/Moana.mp4\n"
     ]
    },
    {
     "data": {
      "text/plain": [
       "'https://invideosearchbucket.s3.amazonaws.com/Moana.mp4'"
      ]
     },
     "execution_count": 38,
     "metadata": {},
     "output_type": "execute_result"
    }
   ],
   "source": [
    "def upload_file(file_name, bucket_name, object_name=None):\n",
    "    if object_name is None:\n",
    "        object_name = file_name\n",
    "    try:\n",
    "        response = s3.upload_file(file_name, bucket_name, object_name)\n",
    "        url = f'https://{bucket_name}.s3.amazonaws.com/{object_name}'\n",
    "        print(f'{file_name} uploaded successfully. URL: {url}')\n",
    "        return url\n",
    "    except Exception as e:\n",
    "        print(f'Upload failed: {e}')\n",
    "\n",
    "def delete_file(bucket_name, object_name):\n",
    "    try:\n",
    "        response = s3.delete_object(Bucket=bucket_name, Key=object_name)\n",
    "        print(f'{object_name} deleted successfully from {bucket_name}')\n",
    "    except Exception as e:\n",
    "        print(f'Deletion failed: {e}')\n",
    "\n",
    "# Example usage\n",
    "upload_file('Moana.mp4', 'invideosearchbucket')\n",
    "delete_file('invideosearchbucket', 'Moana.mp4')"
   ]
  },
  {
   "cell_type": "code",
   "execution_count": 1,
   "metadata": {},
   "outputs": [
    {
     "name": "stdout",
     "output_type": "stream",
     "text": [
      "Collecting Flask\n",
      "  Downloading flask-3.0.2-py3-none-any.whl.metadata (3.6 kB)\n",
      "Collecting Werkzeug>=3.0.0 (from Flask)\n",
      "  Using cached werkzeug-3.0.1-py3-none-any.whl.metadata (4.1 kB)\n",
      "Requirement already satisfied: Jinja2>=3.1.2 in c:\\users\\sudhy\\.conda\\envs\\capstoneproject\\lib\\site-packages (from Flask) (3.1.3)\n",
      "Collecting itsdangerous>=2.1.2 (from Flask)\n",
      "  Downloading itsdangerous-2.1.2-py3-none-any.whl.metadata (2.9 kB)\n",
      "Requirement already satisfied: click>=8.1.3 in c:\\users\\sudhy\\.conda\\envs\\capstoneproject\\lib\\site-packages (from Flask) (8.1.7)\n",
      "Collecting blinker>=1.6.2 (from Flask)\n",
      "  Downloading blinker-1.7.0-py3-none-any.whl.metadata (1.9 kB)\n",
      "Requirement already satisfied: colorama in c:\\users\\sudhy\\.conda\\envs\\capstoneproject\\lib\\site-packages (from click>=8.1.3->Flask) (0.4.6)\n",
      "Requirement already satisfied: MarkupSafe>=2.0 in c:\\users\\sudhy\\.conda\\envs\\capstoneproject\\lib\\site-packages (from Jinja2>=3.1.2->Flask) (2.1.5)\n",
      "Downloading flask-3.0.2-py3-none-any.whl (101 kB)\n",
      "   ---------------------------------------- 0.0/101.3 kB ? eta -:--:--\n",
      "   ---------------- ----------------------- 41.0/101.3 kB 1.9 MB/s eta 0:00:01\n",
      "   ---------------------------------------- 101.3/101.3 kB 2.8 MB/s eta 0:00:00\n",
      "Downloading blinker-1.7.0-py3-none-any.whl (13 kB)\n",
      "Downloading itsdangerous-2.1.2-py3-none-any.whl (15 kB)\n",
      "Using cached werkzeug-3.0.1-py3-none-any.whl (226 kB)\n",
      "Installing collected packages: Werkzeug, itsdangerous, blinker, Flask\n",
      "Successfully installed Flask-3.0.2 Werkzeug-3.0.1 blinker-1.7.0 itsdangerous-2.1.2\n"
     ]
    }
   ],
   "source": [
    "!pip install Flask"
   ]
  },
  {
   "cell_type": "code",
   "execution_count": 2,
   "metadata": {},
   "outputs": [],
   "source": [
    "from flask import Flask\n",
    "\n",
    "app = Flask(__name__)\n",
    "\n",
    "\n",
    "@app.route(\"/\")\n",
    "def hello_world():\n",
    "    return \"Hello, World!\""
   ]
  },
  {
   "cell_type": "code",
   "execution_count": null,
   "metadata": {},
   "outputs": [],
   "source": []
  },
  {
   "cell_type": "code",
   "execution_count": null,
   "metadata": {},
   "outputs": [],
   "source": []
  }
 ],
 "metadata": {
  "kernelspec": {
   "display_name": "capstoneProject",
   "language": "python",
   "name": "python3"
  },
  "language_info": {
   "codemirror_mode": {
    "name": "ipython",
    "version": 3
   },
   "file_extension": ".py",
   "mimetype": "text/x-python",
   "name": "python",
   "nbconvert_exporter": "python",
   "pygments_lexer": "ipython3",
   "version": "3.12.1"
  }
 },
 "nbformat": 4,
 "nbformat_minor": 2
}
