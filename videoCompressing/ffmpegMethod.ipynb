{
 "cells": [
  {
   "cell_type": "code",
   "execution_count": 16,
   "metadata": {},
   "outputs": [],
   "source": [
    "# ffmpeg -i input.mp4 -vcodec h264 -acodec mp2 out.mp4\n",
    "# 3.6 Gb to 556 Mb, great quality 🥇\n",
    "# ffmpeg -i input.mp4 -s 1280x720 -acodec copy -y output.mp4\n",
    "# 3.6 Gb to 62 Mb, quality \"good enough\"/acceptable 👍\n",
    "# ffmpeg -i input.mp4 -vcodec h264 -b:v 1000k -acodec mp3 output.mp4\n",
    "# 3.6 Gb to 30 Mb, very shitty quality 💩"
   ]
  },
  {
   "cell_type": "code",
   "execution_count": 18,
   "metadata": {},
   "outputs": [
    {
     "data": {
      "text/plain": [
       "(None, None)"
      ]
     },
     "execution_count": 18,
     "metadata": {},
     "output_type": "execute_result"
    }
   ],
   "source": [
    "import ffmpeg\n",
    "\n",
    "input_file = 'b8k.webm' \n",
    "output_file = 'o.mp4' \n",
    "\n",
    "ffmpeg.input(input_file).output(output_file, vcodec='h264', v='1000k', acodec='mp3').run()"
   ]
  },
  {
   "cell_type": "code",
   "execution_count": 14,
   "metadata": {},
   "outputs": [
    {
     "data": {
      "text/plain": [
       "(None, None)"
      ]
     },
     "execution_count": 14,
     "metadata": {},
     "output_type": "execute_result"
    }
   ],
   "source": [
    "import ffmpeg\n",
    "\n",
    "input_file = 'b8k.webm' \n",
    "output_file = 'o2.mp4' \n",
    "\n",
    "ffmpeg.input(input_file).output(output_file, s='1280x720', v='1000k', acodec='mp3').run()"
   ]
  },
  {
   "cell_type": "code",
   "execution_count": 4,
   "metadata": {},
   "outputs": [
    {
     "name": "stdout",
     "output_type": "stream",
     "text": [
      "Defaulting to user installation because normal site-packages is not writeable\n",
      "Collecting ffmpeg-python\n",
      "  Downloading ffmpeg_python-0.2.0-py3-none-any.whl (25 kB)\n",
      "Requirement already satisfied: future in c:\\programdata\\anaconda3\\lib\\site-packages (from ffmpeg-python) (0.18.3)\n",
      "Installing collected packages: ffmpeg-python\n",
      "Successfully installed ffmpeg-python-0.2.0\n"
     ]
    }
   ],
   "source": [
    "# !pip install ffmpeg-python\n",
    "\n"
   ]
  },
  {
   "cell_type": "code",
   "execution_count": 5,
   "metadata": {},
   "outputs": [
    {
     "name": "stdout",
     "output_type": "stream",
     "text": [
      "Defaulting to user installation because normal site-packages is not writeable\n",
      "Requirement already satisfied: ffmpeg-python in c:\\users\\sudhy\\appdata\\roaming\\python\\python311\\site-packages (0.2.0)\n",
      "Requirement already satisfied: future in c:\\programdata\\anaconda3\\lib\\site-packages (from ffmpeg-python) (0.18.3)\n"
     ]
    }
   ],
   "source": [
    "# !pip install ffmpeg-python\n"
   ]
  },
  {
   "cell_type": "code",
   "execution_count": 6,
   "metadata": {},
   "outputs": [
    {
     "data": {
      "text/plain": [
       "(None, None)"
      ]
     },
     "execution_count": 6,
     "metadata": {},
     "output_type": "execute_result"
    }
   ],
   "source": [
    "import ffmpeg\n",
    "\n",
    "# Define the input file\n",
    "input_file = 'b8k.webm'\n",
    "\n",
    "# Define the output frames pattern\n",
    "output_frames = 'frames/frame_%04d.png'\n",
    "\n",
    "ffmpeg.input(input_file).output(output_frames, vf='fps=1/5').run()\n",
    "\n"
   ]
  },
  {
   "cell_type": "code",
   "execution_count": null,
   "metadata": {},
   "outputs": [],
   "source": []
  },
  {
   "cell_type": "code",
   "execution_count": null,
   "metadata": {},
   "outputs": [],
   "source": []
  }
 ],
 "metadata": {
  "kernelspec": {
   "display_name": "Python 3 (ipykernel)",
   "language": "python",
   "name": "python3"
  },
  "language_info": {
   "codemirror_mode": {
    "name": "ipython",
    "version": 3
   },
   "file_extension": ".py",
   "mimetype": "text/x-python",
   "name": "python",
   "nbconvert_exporter": "python",
   "pygments_lexer": "ipython3",
   "version": "3.11.5"
  }
 },
 "nbformat": 4,
 "nbformat_minor": 2
}
