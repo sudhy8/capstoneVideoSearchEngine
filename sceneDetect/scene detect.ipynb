{
 "cells": [
  {
   "cell_type": "code",
   "execution_count": 1,
   "id": "4077e927",
   "metadata": {},
   "outputs": [
    {
     "name": "stdout",
     "output_type": "stream",
     "text": [
      "Requirement already satisfied: scenedetect[opencv] in c:\\users\\ancyj\\anaconda3\\lib\\site-packages (0.6.2)Note: you may need to restart the kernel to use updated packages.\n",
      "\n",
      "Requirement already satisfied: numpy in c:\\users\\ancyj\\anaconda3\\lib\\site-packages (from scenedetect[opencv]) (1.23.5)\n",
      "Requirement already satisfied: tqdm in c:\\users\\ancyj\\anaconda3\\lib\\site-packages (from scenedetect[opencv]) (4.64.1)\n",
      "Requirement already satisfied: platformdirs in c:\\users\\ancyj\\anaconda3\\lib\\site-packages (from scenedetect[opencv]) (2.5.2)\n",
      "Requirement already satisfied: Click in c:\\users\\ancyj\\anaconda3\\lib\\site-packages (from scenedetect[opencv]) (8.0.4)\n",
      "Requirement already satisfied: opencv-python in c:\\users\\ancyj\\anaconda3\\lib\\site-packages (from scenedetect[opencv]) (4.9.0.80)\n",
      "Requirement already satisfied: colorama in c:\\users\\ancyj\\anaconda3\\lib\\site-packages (from Click->scenedetect[opencv]) (0.4.6)\n"
     ]
    }
   ],
   "source": [
    "pip install scenedetect[opencv] --upgrade"
   ]
  },
  {
   "cell_type": "code",
   "execution_count": null,
   "id": "ab271f2b",
   "metadata": {},
   "outputs": [],
   "source": [
    "# the function scenedetect.detect() takes a path to the input video and a scene detect object. It returns start/end timecodes as a list.\n",
    "# contentdetector is used to detect the fast cuts in the input video\n",
    "from scenedetect import detect, ContentDetector\n",
    "scene_list = detect('Wonder women.mp4', ContentDetector())"
   ]
  },
  {
   "cell_type": "code",
   "execution_count": null,
   "id": "0151b1a5",
   "metadata": {
    "collapsed": true
   },
   "outputs": [
    {
     "name": "stdout",
     "output_type": "stream",
     "text": [
      "[(00:00:00.000 [frame=0, fps=23.976], 00:00:06.340 [frame=152, fps=23.976]), (00:00:06.340 [frame=152, fps=23.976], 00:00:10.260 [frame=246, fps=23.976]), (00:00:10.260 [frame=246, fps=23.976], 00:00:12.429 [frame=298, fps=23.976]), (00:00:12.429 [frame=298, fps=23.976], 00:00:14.890 [frame=357, fps=23.976]), (00:00:14.890 [frame=357, fps=23.976], 00:00:16.600 [frame=398, fps=23.976]), (00:00:16.600 [frame=398, fps=23.976], 00:00:17.684 [frame=424, fps=23.976]), (00:00:17.684 [frame=424, fps=23.976], 00:00:20.103 [frame=482, fps=23.976]), (00:00:20.103 [frame=482, fps=23.976], 00:00:20.896 [frame=501, fps=23.976]), (00:00:20.896 [frame=501, fps=23.976], 00:00:24.483 [frame=587, fps=23.976]), (00:00:24.483 [frame=587, fps=23.976], 00:00:28.153 [frame=675, fps=23.976]), (00:00:28.153 [frame=675, fps=23.976], 00:00:31.865 [frame=764, fps=23.976]), (00:00:31.865 [frame=764, fps=23.976], 00:00:34.201 [frame=820, fps=23.976]), (00:00:34.201 [frame=820, fps=23.976], 00:00:35.577 [frame=853, fps=23.976]), (00:00:35.577 [frame=853, fps=23.976], 00:00:36.495 [frame=875, fps=23.976]), (00:00:36.495 [frame=875, fps=23.976], 00:00:38.330 [frame=919, fps=23.976]), (00:00:38.330 [frame=919, fps=23.976], 00:00:39.206 [frame=940, fps=23.976]), (00:00:39.206 [frame=940, fps=23.976], 00:00:40.916 [frame=981, fps=23.976]), (00:00:40.916 [frame=981, fps=23.976], 00:00:41.750 [frame=1001, fps=23.976]), (00:00:41.750 [frame=1001, fps=23.976], 00:00:42.668 [frame=1023, fps=23.976]), (00:00:42.668 [frame=1023, fps=23.976], 00:00:43.710 [frame=1048, fps=23.976]), (00:00:43.710 [frame=1048, fps=23.976], 00:00:44.544 [frame=1068, fps=23.976]), (00:00:44.544 [frame=1068, fps=23.976], 00:00:45.462 [frame=1090, fps=23.976]), (00:00:45.462 [frame=1090, fps=23.976], 00:00:46.421 [frame=1113, fps=23.976]), (00:00:46.421 [frame=1113, fps=23.976], 00:00:47.798 [frame=1146, fps=23.976]), (00:00:47.798 [frame=1146, fps=23.976], 00:00:49.466 [frame=1186, fps=23.976]), (00:00:49.466 [frame=1186, fps=23.976], 00:00:51.677 [frame=1239, fps=23.976]), (00:00:51.677 [frame=1239, fps=23.976], 00:00:53.512 [frame=1283, fps=23.976]), (00:00:53.512 [frame=1283, fps=23.976], 00:00:54.972 [frame=1318, fps=23.976]), (00:00:54.972 [frame=1318, fps=23.976], 00:00:57.641 [frame=1382, fps=23.976]), (00:00:57.641 [frame=1382, fps=23.976], 00:00:59.142 [frame=1418, fps=23.976]), (00:00:59.142 [frame=1418, fps=23.976], 00:01:02.604 [frame=1501, fps=23.976]), (00:01:02.604 [frame=1501, fps=23.976], 00:01:03.981 [frame=1534, fps=23.976]), (00:01:03.981 [frame=1534, fps=23.976], 00:01:05.732 [frame=1576, fps=23.976]), (00:01:05.732 [frame=1576, fps=23.976], 00:01:06.900 [frame=1604, fps=23.976]), (00:01:06.900 [frame=1604, fps=23.976], 00:01:08.735 [frame=1648, fps=23.976]), (00:01:08.735 [frame=1648, fps=23.976], 00:01:10.654 [frame=1694, fps=23.976]), (00:01:10.654 [frame=1694, fps=23.976], 00:01:12.489 [frame=1738, fps=23.976]), (00:01:12.489 [frame=1738, fps=23.976], 00:01:13.490 [frame=1762, fps=23.976]), (00:01:13.490 [frame=1762, fps=23.976], 00:01:16.159 [frame=1826, fps=23.976]), (00:01:16.159 [frame=1826, fps=23.976], 00:01:17.661 [frame=1862, fps=23.976]), (00:01:17.661 [frame=1862, fps=23.976], 00:01:19.871 [frame=1915, fps=23.976]), (00:01:19.871 [frame=1915, fps=23.976], 00:01:20.872 [frame=1939, fps=23.976]), (00:01:20.872 [frame=1939, fps=23.976], 00:01:21.748 [frame=1960, fps=23.976]), (00:01:21.748 [frame=1960, fps=23.976], 00:01:25.294 [frame=2045, fps=23.976]), (00:01:25.294 [frame=2045, fps=23.976], 00:01:27.587 [frame=2100, fps=23.976]), (00:01:27.587 [frame=2100, fps=23.976], 00:01:28.922 [frame=2132, fps=23.976]), (00:01:28.922 [frame=2132, fps=23.976], 00:01:31.216 [frame=2187, fps=23.976]), (00:01:31.216 [frame=2187, fps=23.976], 00:01:32.092 [frame=2208, fps=23.976]), (00:01:32.092 [frame=2208, fps=23.976], 00:01:33.510 [frame=2242, fps=23.976]), (00:01:33.510 [frame=2242, fps=23.976], 00:01:36.096 [frame=2304, fps=23.976]), (00:01:36.096 [frame=2304, fps=23.976], 00:01:37.889 [frame=2347, fps=23.976]), (00:01:37.889 [frame=2347, fps=23.976], 00:01:39.308 [frame=2381, fps=23.976]), (00:01:39.308 [frame=2381, fps=23.976], 00:01:40.142 [frame=2401, fps=23.976]), (00:01:40.142 [frame=2401, fps=23.976], 00:01:40.934 [frame=2420, fps=23.976]), (00:01:40.934 [frame=2420, fps=23.976], 00:01:41.685 [frame=2438, fps=23.976]), (00:01:41.685 [frame=2438, fps=23.976], 00:01:42.394 [frame=2455, fps=23.976]), (00:01:42.394 [frame=2455, fps=23.976], 00:01:43.061 [frame=2471, fps=23.976]), (00:01:43.061 [frame=2471, fps=23.976], 00:01:44.604 [frame=2508, fps=23.976]), (00:01:44.604 [frame=2508, fps=23.976], 00:01:46.189 [frame=2546, fps=23.976]), (00:01:46.189 [frame=2546, fps=23.976], 00:01:47.274 [frame=2572, fps=23.976]), (00:01:47.274 [frame=2572, fps=23.976], 00:01:48.317 [frame=2597, fps=23.976]), (00:01:48.317 [frame=2597, fps=23.976], 00:01:49.234 [frame=2619, fps=23.976]), (00:01:49.234 [frame=2619, fps=23.976], 00:01:50.319 [frame=2645, fps=23.976]), (00:01:50.319 [frame=2645, fps=23.976], 00:01:51.028 [frame=2662, fps=23.976]), (00:01:51.028 [frame=2662, fps=23.976], 00:01:51.945 [frame=2684, fps=23.976]), (00:01:51.945 [frame=2684, fps=23.976], 00:01:58.243 [frame=2835, fps=23.976]), (00:01:58.243 [frame=2835, fps=23.976], 00:01:59.328 [frame=2861, fps=23.976]), (00:01:59.328 [frame=2861, fps=23.976], 00:02:00.162 [frame=2881, fps=23.976]), (00:02:00.162 [frame=2881, fps=23.976], 00:02:01.747 [frame=2919, fps=23.976]), (00:02:01.747 [frame=2919, fps=23.976], 00:02:03.582 [frame=2963, fps=23.976]), (00:02:03.582 [frame=2963, fps=23.976], 00:02:04.249 [frame=2979, fps=23.976]), (00:02:04.249 [frame=2979, fps=23.976], 00:02:07.336 [frame=3053, fps=23.976]), (00:02:07.336 [frame=3053, fps=23.976], 00:02:07.961 [frame=3068, fps=23.976]), (00:02:07.961 [frame=3068, fps=23.976], 00:02:11.923 [frame=3163, fps=23.976]), (00:02:11.923 [frame=3163, fps=23.976], 00:02:13.175 [frame=3193, fps=23.976]), (00:02:13.175 [frame=3193, fps=23.976], 00:02:14.551 [frame=3226, fps=23.976]), (00:02:14.551 [frame=3226, fps=23.976], 00:02:16.553 [frame=3274, fps=23.976]), (00:02:16.553 [frame=3274, fps=23.976], 00:02:21.350 [frame=3389, fps=23.976]), (00:02:21.350 [frame=3389, fps=23.976], 00:02:24.144 [frame=3456, fps=23.976]), (00:02:24.144 [frame=3456, fps=23.976], 00:02:24.227 [frame=3458, fps=23.976])]\n"
     ]
    }
   ],
   "source": [
    "print(scene_list)\n",
    "#scene list containing the start/end times of all scenes found in the video.\n"
   ]
  },
  {
   "cell_type": "code",
   "execution_count": null,
   "id": "c702a47e",
   "metadata": {},
   "outputs": [
    {
     "data": {
      "text/plain": [
       "80"
      ]
     },
     "execution_count": 5,
     "metadata": {},
     "output_type": "execute_result"
    }
   ],
   "source": [
    "#to get total number of scenes detected\n",
    "len(scene_list)"
   ]
  },
  {
   "cell_type": "code",
   "execution_count": 6,
   "id": "5489dbcb",
   "metadata": {
    "collapsed": true
   },
   "outputs": [
    {
     "name": "stdout",
     "output_type": "stream",
     "text": [
      "    Scene  1: Start 00:00:00.000 / Frame 0, End 00:00:06.340 / Frame 152\n",
      "    Scene  2: Start 00:00:06.340 / Frame 152, End 00:00:10.260 / Frame 246\n",
      "    Scene  3: Start 00:00:10.260 / Frame 246, End 00:00:12.429 / Frame 298\n",
      "    Scene  4: Start 00:00:12.429 / Frame 298, End 00:00:14.890 / Frame 357\n",
      "    Scene  5: Start 00:00:14.890 / Frame 357, End 00:00:16.600 / Frame 398\n",
      "    Scene  6: Start 00:00:16.600 / Frame 398, End 00:00:17.684 / Frame 424\n",
      "    Scene  7: Start 00:00:17.684 / Frame 424, End 00:00:20.103 / Frame 482\n",
      "    Scene  8: Start 00:00:20.103 / Frame 482, End 00:00:20.896 / Frame 501\n",
      "    Scene  9: Start 00:00:20.896 / Frame 501, End 00:00:24.483 / Frame 587\n",
      "    Scene 10: Start 00:00:24.483 / Frame 587, End 00:00:28.153 / Frame 675\n",
      "    Scene 11: Start 00:00:28.153 / Frame 675, End 00:00:31.865 / Frame 764\n",
      "    Scene 12: Start 00:00:31.865 / Frame 764, End 00:00:34.201 / Frame 820\n",
      "    Scene 13: Start 00:00:34.201 / Frame 820, End 00:00:35.577 / Frame 853\n",
      "    Scene 14: Start 00:00:35.577 / Frame 853, End 00:00:36.495 / Frame 875\n",
      "    Scene 15: Start 00:00:36.495 / Frame 875, End 00:00:38.330 / Frame 919\n",
      "    Scene 16: Start 00:00:38.330 / Frame 919, End 00:00:39.206 / Frame 940\n",
      "    Scene 17: Start 00:00:39.206 / Frame 940, End 00:00:40.916 / Frame 981\n",
      "    Scene 18: Start 00:00:40.916 / Frame 981, End 00:00:41.750 / Frame 1001\n",
      "    Scene 19: Start 00:00:41.750 / Frame 1001, End 00:00:42.668 / Frame 1023\n",
      "    Scene 20: Start 00:00:42.668 / Frame 1023, End 00:00:43.710 / Frame 1048\n",
      "    Scene 21: Start 00:00:43.710 / Frame 1048, End 00:00:44.544 / Frame 1068\n",
      "    Scene 22: Start 00:00:44.544 / Frame 1068, End 00:00:45.462 / Frame 1090\n",
      "    Scene 23: Start 00:00:45.462 / Frame 1090, End 00:00:46.421 / Frame 1113\n",
      "    Scene 24: Start 00:00:46.421 / Frame 1113, End 00:00:47.798 / Frame 1146\n",
      "    Scene 25: Start 00:00:47.798 / Frame 1146, End 00:00:49.466 / Frame 1186\n",
      "    Scene 26: Start 00:00:49.466 / Frame 1186, End 00:00:51.677 / Frame 1239\n",
      "    Scene 27: Start 00:00:51.677 / Frame 1239, End 00:00:53.512 / Frame 1283\n",
      "    Scene 28: Start 00:00:53.512 / Frame 1283, End 00:00:54.972 / Frame 1318\n",
      "    Scene 29: Start 00:00:54.972 / Frame 1318, End 00:00:57.641 / Frame 1382\n",
      "    Scene 30: Start 00:00:57.641 / Frame 1382, End 00:00:59.142 / Frame 1418\n",
      "    Scene 31: Start 00:00:59.142 / Frame 1418, End 00:01:02.604 / Frame 1501\n",
      "    Scene 32: Start 00:01:02.604 / Frame 1501, End 00:01:03.981 / Frame 1534\n",
      "    Scene 33: Start 00:01:03.981 / Frame 1534, End 00:01:05.732 / Frame 1576\n",
      "    Scene 34: Start 00:01:05.732 / Frame 1576, End 00:01:06.900 / Frame 1604\n",
      "    Scene 35: Start 00:01:06.900 / Frame 1604, End 00:01:08.735 / Frame 1648\n",
      "    Scene 36: Start 00:01:08.735 / Frame 1648, End 00:01:10.654 / Frame 1694\n",
      "    Scene 37: Start 00:01:10.654 / Frame 1694, End 00:01:12.489 / Frame 1738\n",
      "    Scene 38: Start 00:01:12.489 / Frame 1738, End 00:01:13.490 / Frame 1762\n",
      "    Scene 39: Start 00:01:13.490 / Frame 1762, End 00:01:16.159 / Frame 1826\n",
      "    Scene 40: Start 00:01:16.159 / Frame 1826, End 00:01:17.661 / Frame 1862\n",
      "    Scene 41: Start 00:01:17.661 / Frame 1862, End 00:01:19.871 / Frame 1915\n",
      "    Scene 42: Start 00:01:19.871 / Frame 1915, End 00:01:20.872 / Frame 1939\n",
      "    Scene 43: Start 00:01:20.872 / Frame 1939, End 00:01:21.748 / Frame 1960\n",
      "    Scene 44: Start 00:01:21.748 / Frame 1960, End 00:01:25.294 / Frame 2045\n",
      "    Scene 45: Start 00:01:25.294 / Frame 2045, End 00:01:27.587 / Frame 2100\n",
      "    Scene 46: Start 00:01:27.587 / Frame 2100, End 00:01:28.922 / Frame 2132\n",
      "    Scene 47: Start 00:01:28.922 / Frame 2132, End 00:01:31.216 / Frame 2187\n",
      "    Scene 48: Start 00:01:31.216 / Frame 2187, End 00:01:32.092 / Frame 2208\n",
      "    Scene 49: Start 00:01:32.092 / Frame 2208, End 00:01:33.510 / Frame 2242\n",
      "    Scene 50: Start 00:01:33.510 / Frame 2242, End 00:01:36.096 / Frame 2304\n",
      "    Scene 51: Start 00:01:36.096 / Frame 2304, End 00:01:37.889 / Frame 2347\n",
      "    Scene 52: Start 00:01:37.889 / Frame 2347, End 00:01:39.308 / Frame 2381\n",
      "    Scene 53: Start 00:01:39.308 / Frame 2381, End 00:01:40.142 / Frame 2401\n",
      "    Scene 54: Start 00:01:40.142 / Frame 2401, End 00:01:40.934 / Frame 2420\n",
      "    Scene 55: Start 00:01:40.934 / Frame 2420, End 00:01:41.685 / Frame 2438\n",
      "    Scene 56: Start 00:01:41.685 / Frame 2438, End 00:01:42.394 / Frame 2455\n",
      "    Scene 57: Start 00:01:42.394 / Frame 2455, End 00:01:43.061 / Frame 2471\n",
      "    Scene 58: Start 00:01:43.061 / Frame 2471, End 00:01:44.604 / Frame 2508\n",
      "    Scene 59: Start 00:01:44.604 / Frame 2508, End 00:01:46.189 / Frame 2546\n",
      "    Scene 60: Start 00:01:46.189 / Frame 2546, End 00:01:47.274 / Frame 2572\n",
      "    Scene 61: Start 00:01:47.274 / Frame 2572, End 00:01:48.317 / Frame 2597\n",
      "    Scene 62: Start 00:01:48.317 / Frame 2597, End 00:01:49.234 / Frame 2619\n",
      "    Scene 63: Start 00:01:49.234 / Frame 2619, End 00:01:50.319 / Frame 2645\n",
      "    Scene 64: Start 00:01:50.319 / Frame 2645, End 00:01:51.028 / Frame 2662\n",
      "    Scene 65: Start 00:01:51.028 / Frame 2662, End 00:01:51.945 / Frame 2684\n",
      "    Scene 66: Start 00:01:51.945 / Frame 2684, End 00:01:58.243 / Frame 2835\n",
      "    Scene 67: Start 00:01:58.243 / Frame 2835, End 00:01:59.328 / Frame 2861\n",
      "    Scene 68: Start 00:01:59.328 / Frame 2861, End 00:02:00.162 / Frame 2881\n",
      "    Scene 69: Start 00:02:00.162 / Frame 2881, End 00:02:01.747 / Frame 2919\n",
      "    Scene 70: Start 00:02:01.747 / Frame 2919, End 00:02:03.582 / Frame 2963\n",
      "    Scene 71: Start 00:02:03.582 / Frame 2963, End 00:02:04.249 / Frame 2979\n",
      "    Scene 72: Start 00:02:04.249 / Frame 2979, End 00:02:07.336 / Frame 3053\n",
      "    Scene 73: Start 00:02:07.336 / Frame 3053, End 00:02:07.961 / Frame 3068\n",
      "    Scene 74: Start 00:02:07.961 / Frame 3068, End 00:02:11.923 / Frame 3163\n",
      "    Scene 75: Start 00:02:11.923 / Frame 3163, End 00:02:13.175 / Frame 3193\n",
      "    Scene 76: Start 00:02:13.175 / Frame 3193, End 00:02:14.551 / Frame 3226\n",
      "    Scene 77: Start 00:02:14.551 / Frame 3226, End 00:02:16.553 / Frame 3274\n",
      "    Scene 78: Start 00:02:16.553 / Frame 3274, End 00:02:21.350 / Frame 3389\n",
      "    Scene 79: Start 00:02:21.350 / Frame 3389, End 00:02:24.144 / Frame 3456\n",
      "    Scene 80: Start 00:02:24.144 / Frame 3456, End 00:02:24.227 / Frame 3458\n"
     ]
    }
   ],
   "source": [
    "#display the detected scene details\n",
    "for i, scene in enumerate(scene_list):\n",
    "    print('    Scene %2d:  Start %s /  Frame %d, End %s / Frame %d' % (\n",
    "        i+1,\n",
    "        scene[0].get_timecode(), scene[0].get_frames(),\n",
    "        scene[1].get_timecode(), scene[1].get_frames(),))"
   ]
  },
  {
   "cell_type": "code",
   "execution_count": 7,
   "id": "ed9bcc61",
   "metadata": {},
   "outputs": [
    {
     "data": {
      "text/plain": [
       "0"
      ]
     },
     "execution_count": 7,
     "metadata": {},
     "output_type": "execute_result"
    }
   ],
   "source": [
    "# Video spliting using ffmpeg, which is function used to split the video \n",
    "# Here ffmpeg use the scene_list(list of scenes) and cut it into scenes.\n",
    "\n",
    "\n",
    "from scenedetect import detect, ContentDetector, split_video_ffmpeg\n",
    "scene_list = detect('Wonder women.mp4', ContentDetector())\n",
    "split_video_ffmpeg('Wonder women.mp4', scene_list)"
   ]
  },
  {
   "cell_type": "markdown",
   "id": "b4ee4737",
   "metadata": {},
   "source": [
    "SceneDetect API"
   ]
  },
  {
   "cell_type": "markdown",
   "id": "4a723232",
   "metadata": {},
   "source": [
    "Scene_manager: it is a class in sceneDetect, which applies SceneDetector Objects on video frames from a video stream."
   ]
  },
  {
   "cell_type": "code",
   "execution_count": 6,
   "id": "2c35e868",
   "metadata": {},
   "outputs": [],
   "source": [
    "from scenedetect import open_video, SceneManager, split_video_ffmpeg\n",
    "from scenedetect.detectors import ContentDetector\n",
    "from scenedetect.video_splitter import split_video_ffmpeg\n",
    "\n",
    "def split_video_into_scenes(video_path, threshold=27.0):\n",
    "    # Open our video, create a scene manager, and add a detector.\n",
    "    video = open_video(video_path) ## to get the video from video path\n",
    "    scene_manager = SceneManager() \n",
    "    scene_manager.add_detector(\n",
    "        ContentDetector(threshold=35.0))  ## add/register a Scenedetector(here contentdetector) to run when scene detect is called.\n",
    "    scene_manager.detect_scenes(video, show_progress=True,frame_skip =0) # frame_skip=0 by default\n",
    "    scene_list = scene_manager.get_scene_list()\n",
    "    split_video=split_video_ffmpeg(video_path, scene_list, show_progress=True)\n",
    "    print(\"Number of Scenes: \",len(scene_list))\n",
    "    #display the detected scene details\n",
    "    for i, scene in enumerate(scene_list):\n",
    "        print('    Scene %2d:  Start %s /  Frame %d, End %s / Frame %d' % (\n",
    "            i+1,\n",
    "            scene[0].get_timecode(), scene[0].get_frames(),\n",
    "            scene[1].get_timecode(), scene[1].get_frames(),))\n",
    "    print(type(split_video))\n",
    "    print(split_video) "
   ]
  },
  {
   "cell_type": "code",
   "execution_count": 20,
   "id": "95e0e133",
   "metadata": {},
   "outputs": [
    {
     "name": "stderr",
     "output_type": "stream",
     "text": [
      "Detected: 68 | Progress: 100%|██████████| 3458/3458 [00:06<00:00, 514.35frames/s]\n",
      "100%|██████████| 3458/3458 [00:25<00:00, 133.71frame/s]"
     ]
    },
    {
     "name": "stdout",
     "output_type": "stream",
     "text": [
      "Number of Scenes:  69\n",
      "    Scene  1:  Start 00:00:00.000 /  Frame 0, End 00:00:12.429 / Frame 298\n",
      "    Scene  2:  Start 00:00:12.429 /  Frame 298, End 00:00:14.973 / Frame 359\n",
      "    Scene  3:  Start 00:00:14.973 /  Frame 359, End 00:00:16.600 / Frame 398\n",
      "    Scene  4:  Start 00:00:16.600 /  Frame 398, End 00:00:20.103 / Frame 482\n",
      "    Scene  5:  Start 00:00:20.103 /  Frame 482, End 00:00:20.896 / Frame 501\n",
      "    Scene  6:  Start 00:00:20.896 /  Frame 501, End 00:00:24.483 / Frame 587\n",
      "    Scene  7:  Start 00:00:24.483 /  Frame 587, End 00:00:28.153 / Frame 675\n",
      "    Scene  8:  Start 00:00:28.153 /  Frame 675, End 00:00:31.865 / Frame 764\n",
      "    Scene  9:  Start 00:00:31.865 /  Frame 764, End 00:00:34.201 / Frame 820\n",
      "    Scene 10:  Start 00:00:34.201 /  Frame 820, End 00:00:35.577 / Frame 853\n",
      "    Scene 11:  Start 00:00:35.577 /  Frame 853, End 00:00:38.330 / Frame 919\n",
      "    Scene 12:  Start 00:00:38.330 /  Frame 919, End 00:00:39.206 / Frame 940\n",
      "    Scene 13:  Start 00:00:39.206 /  Frame 940, End 00:00:40.958 / Frame 982\n",
      "    Scene 14:  Start 00:00:40.958 /  Frame 982, End 00:00:41.750 / Frame 1001\n",
      "    Scene 15:  Start 00:00:41.750 /  Frame 1001, End 00:00:42.668 / Frame 1023\n",
      "    Scene 16:  Start 00:00:42.668 /  Frame 1023, End 00:00:43.710 / Frame 1048\n",
      "    Scene 17:  Start 00:00:43.710 /  Frame 1048, End 00:00:44.544 / Frame 1068\n",
      "    Scene 18:  Start 00:00:44.544 /  Frame 1068, End 00:00:47.005 / Frame 1127\n",
      "    Scene 19:  Start 00:00:47.005 /  Frame 1127, End 00:00:47.798 / Frame 1146\n",
      "    Scene 20:  Start 00:00:47.798 /  Frame 1146, End 00:00:49.466 / Frame 1186\n",
      "    Scene 21:  Start 00:00:49.466 /  Frame 1186, End 00:00:51.677 / Frame 1239\n",
      "    Scene 22:  Start 00:00:51.677 /  Frame 1239, End 00:00:53.512 / Frame 1283\n",
      "    Scene 23:  Start 00:00:53.512 /  Frame 1283, End 00:00:57.641 / Frame 1382\n",
      "    Scene 24:  Start 00:00:57.641 /  Frame 1382, End 00:01:02.604 / Frame 1501\n",
      "    Scene 25:  Start 00:01:02.604 /  Frame 1501, End 00:01:03.981 / Frame 1534\n",
      "    Scene 26:  Start 00:01:03.981 /  Frame 1534, End 00:01:05.732 / Frame 1576\n",
      "    Scene 27:  Start 00:01:05.732 /  Frame 1576, End 00:01:06.984 / Frame 1606\n",
      "    Scene 28:  Start 00:01:06.984 /  Frame 1606, End 00:01:08.735 / Frame 1648\n",
      "    Scene 29:  Start 00:01:08.735 /  Frame 1648, End 00:01:10.654 / Frame 1694\n",
      "    Scene 30:  Start 00:01:10.654 /  Frame 1694, End 00:01:12.489 / Frame 1738\n",
      "    Scene 31:  Start 00:01:12.489 /  Frame 1738, End 00:01:13.490 / Frame 1762\n",
      "    Scene 32:  Start 00:01:13.490 /  Frame 1762, End 00:01:16.159 / Frame 1826\n",
      "    Scene 33:  Start 00:01:16.159 /  Frame 1826, End 00:01:17.995 / Frame 1870\n",
      "    Scene 34:  Start 00:01:17.995 /  Frame 1870, End 00:01:19.871 / Frame 1915\n",
      "    Scene 35:  Start 00:01:19.871 /  Frame 1915, End 00:01:20.872 / Frame 1939\n",
      "    Scene 36:  Start 00:01:20.872 /  Frame 1939, End 00:01:21.748 / Frame 1960\n",
      "    Scene 37:  Start 00:01:21.748 /  Frame 1960, End 00:01:25.294 / Frame 2045\n",
      "    Scene 38:  Start 00:01:25.294 /  Frame 2045, End 00:01:27.587 / Frame 2100\n",
      "    Scene 39:  Start 00:01:27.587 /  Frame 2100, End 00:01:28.922 / Frame 2132\n",
      "    Scene 40:  Start 00:01:28.922 /  Frame 2132, End 00:01:31.216 / Frame 2187\n",
      "    Scene 41:  Start 00:01:31.216 /  Frame 2187, End 00:01:32.092 / Frame 2208\n",
      "    Scene 42:  Start 00:01:32.092 /  Frame 2208, End 00:01:33.552 / Frame 2243\n",
      "    Scene 43:  Start 00:01:33.552 /  Frame 2243, End 00:01:37.889 / Frame 2347\n",
      "    Scene 44:  Start 00:01:37.889 /  Frame 2347, End 00:01:39.308 / Frame 2381\n",
      "    Scene 45:  Start 00:01:39.308 /  Frame 2381, End 00:01:40.142 / Frame 2401\n",
      "    Scene 46:  Start 00:01:40.142 /  Frame 2401, End 00:01:40.934 / Frame 2420\n",
      "    Scene 47:  Start 00:01:40.934 /  Frame 2420, End 00:01:41.685 / Frame 2438\n",
      "    Scene 48:  Start 00:01:41.685 /  Frame 2438, End 00:01:42.394 / Frame 2455\n",
      "    Scene 49:  Start 00:01:42.394 /  Frame 2455, End 00:01:43.186 / Frame 2474\n",
      "    Scene 50:  Start 00:01:43.186 /  Frame 2474, End 00:01:44.604 / Frame 2508\n",
      "    Scene 51:  Start 00:01:44.604 /  Frame 2508, End 00:01:46.189 / Frame 2546\n",
      "    Scene 52:  Start 00:01:46.189 /  Frame 2546, End 00:01:47.274 / Frame 2572\n",
      "    Scene 53:  Start 00:01:47.274 /  Frame 2572, End 00:01:48.317 / Frame 2597\n",
      "    Scene 54:  Start 00:01:48.317 /  Frame 2597, End 00:01:50.319 / Frame 2645\n",
      "    Scene 55:  Start 00:01:50.319 /  Frame 2645, End 00:01:51.028 / Frame 2662\n",
      "    Scene 56:  Start 00:01:51.028 /  Frame 2662, End 00:01:52.029 / Frame 2686\n",
      "    Scene 57:  Start 00:01:52.029 /  Frame 2686, End 00:01:58.243 / Frame 2835\n",
      "    Scene 58:  Start 00:01:58.243 /  Frame 2835, End 00:01:59.328 / Frame 2861\n",
      "    Scene 59:  Start 00:01:59.328 /  Frame 2861, End 00:02:00.162 / Frame 2881\n",
      "    Scene 60:  Start 00:02:00.162 /  Frame 2881, End 00:02:03.582 / Frame 2963\n",
      "    Scene 61:  Start 00:02:03.582 /  Frame 2963, End 00:02:04.249 / Frame 2979\n",
      "    Scene 62:  Start 00:02:04.249 /  Frame 2979, End 00:02:07.336 / Frame 3053\n",
      "    Scene 63:  Start 00:02:07.336 /  Frame 3053, End 00:02:08.003 / Frame 3069\n",
      "    Scene 64:  Start 00:02:08.003 /  Frame 3069, End 00:02:11.923 / Frame 3163\n",
      "    Scene 65:  Start 00:02:11.923 /  Frame 3163, End 00:02:13.175 / Frame 3193\n",
      "    Scene 66:  Start 00:02:13.175 /  Frame 3193, End 00:02:14.551 / Frame 3226\n",
      "    Scene 67:  Start 00:02:14.551 /  Frame 3226, End 00:02:21.350 / Frame 3389\n",
      "    Scene 68:  Start 00:02:21.350 /  Frame 3389, End 00:02:24.144 / Frame 3456\n",
      "    Scene 69:  Start 00:02:24.144 /  Frame 3456, End 00:02:24.227 / Frame 3458\n",
      "<class 'int'>\n",
      "0\n"
     ]
    },
    {
     "name": "stderr",
     "output_type": "stream",
     "text": [
      "\n"
     ]
    }
   ],
   "source": [
    "Test1= split_video_into_scenes(\"Wonder women.mp4\",50.0)"
   ]
  },
  {
   "cell_type": "code",
   "execution_count": 21,
   "id": "e5a8cabe",
   "metadata": {},
   "outputs": [
    {
     "name": "stderr",
     "output_type": "stream",
     "text": [
      "Detected: 31 | Progress: 100%|██████████| 1607/1607 [00:03<00:00, 497.49frames/s]\n",
      "100%|██████████| 1607/1607 [00:14<00:00, 109.96frame/s]"
     ]
    },
    {
     "name": "stdout",
     "output_type": "stream",
     "text": [
      "Number of Scenes:  32\n",
      "    Scene  1:  Start 00:00:00.000 /  Frame 0, End 00:00:02.878 / Frame 69\n",
      "    Scene  2:  Start 00:00:02.878 /  Frame 69, End 00:00:05.756 / Frame 138\n",
      "    Scene  3:  Start 00:00:05.756 /  Frame 138, End 00:00:10.594 / Frame 254\n",
      "    Scene  4:  Start 00:00:10.594 /  Frame 254, End 00:00:12.554 / Frame 301\n",
      "    Scene  5:  Start 00:00:12.554 /  Frame 301, End 00:00:14.139 / Frame 339\n",
      "    Scene  6:  Start 00:00:14.139 /  Frame 339, End 00:00:15.682 / Frame 376\n",
      "    Scene  7:  Start 00:00:15.682 /  Frame 376, End 00:00:17.893 / Frame 429\n",
      "    Scene  8:  Start 00:00:17.893 /  Frame 429, End 00:00:20.020 / Frame 480\n",
      "    Scene  9:  Start 00:00:20.020 /  Frame 480, End 00:00:20.938 / Frame 502\n",
      "    Scene 10:  Start 00:00:20.938 /  Frame 502, End 00:00:21.813 / Frame 523\n",
      "    Scene 11:  Start 00:00:21.813 /  Frame 523, End 00:00:22.564 / Frame 541\n",
      "    Scene 12:  Start 00:00:22.564 /  Frame 541, End 00:00:23.732 / Frame 569\n",
      "    Scene 13:  Start 00:00:23.732 /  Frame 569, End 00:00:24.816 / Frame 595\n",
      "    Scene 14:  Start 00:00:24.816 /  Frame 595, End 00:00:30.864 / Frame 740\n",
      "    Scene 15:  Start 00:00:30.864 /  Frame 740, End 00:00:32.824 / Frame 787\n",
      "    Scene 16:  Start 00:00:32.824 /  Frame 787, End 00:00:34.284 / Frame 822\n",
      "    Scene 17:  Start 00:00:34.284 /  Frame 822, End 00:00:35.118 / Frame 842\n",
      "    Scene 18:  Start 00:00:35.118 /  Frame 842, End 00:00:36.328 / Frame 871\n",
      "    Scene 19:  Start 00:00:36.328 /  Frame 871, End 00:00:38.080 / Frame 913\n",
      "    Scene 20:  Start 00:00:38.080 /  Frame 913, End 00:00:41.750 / Frame 1001\n",
      "    Scene 21:  Start 00:00:41.750 /  Frame 1001, End 00:00:44.753 / Frame 1073\n",
      "    Scene 22:  Start 00:00:44.753 /  Frame 1073, End 00:00:47.923 / Frame 1149\n",
      "    Scene 23:  Start 00:00:47.923 /  Frame 1149, End 00:00:48.924 / Frame 1173\n",
      "    Scene 24:  Start 00:00:48.924 /  Frame 1173, End 00:00:50.592 / Frame 1213\n",
      "    Scene 25:  Start 00:00:50.592 /  Frame 1213, End 00:00:51.718 / Frame 1240\n",
      "    Scene 26:  Start 00:00:51.718 /  Frame 1240, End 00:00:52.803 / Frame 1266\n",
      "    Scene 27:  Start 00:00:52.803 /  Frame 1266, End 00:00:53.762 / Frame 1289\n",
      "    Scene 28:  Start 00:00:53.762 /  Frame 1289, End 00:00:54.638 / Frame 1310\n",
      "    Scene 29:  Start 00:00:54.638 /  Frame 1310, End 00:00:55.639 / Frame 1334\n",
      "    Scene 30:  Start 00:00:55.639 /  Frame 1334, End 00:00:57.224 / Frame 1372\n",
      "    Scene 31:  Start 00:00:57.224 /  Frame 1372, End 00:01:06.316 / Frame 1590\n",
      "    Scene 32:  Start 00:01:06.316 /  Frame 1590, End 00:01:07.025 / Frame 1607\n",
      "<class 'int'>\n",
      "0\n"
     ]
    },
    {
     "name": "stderr",
     "output_type": "stream",
     "text": [
      "\n"
     ]
    }
   ],
   "source": [
    "test2=split_video_into_scenes(\"Moana.mp4\")"
   ]
  },
  {
   "cell_type": "code",
   "execution_count": 24,
   "id": "b3bebbe9",
   "metadata": {},
   "outputs": [
    {
     "name": "stderr",
     "output_type": "stream",
     "text": [
      "Detected: 31 | Progress: 100%|██████████| 1607/1607 [00:03<00:00, 481.17frames/s]\n",
      "100%|██████████| 1607/1607 [00:14<00:00, 112.27frame/s]"
     ]
    },
    {
     "name": "stdout",
     "output_type": "stream",
     "text": [
      "Number of Scenes:  32\n",
      "    Scene  1:  Start 00:00:00.000 /  Frame 0, End 00:00:02.878 / Frame 69\n",
      "    Scene  2:  Start 00:00:02.878 /  Frame 69, End 00:00:05.756 / Frame 138\n",
      "    Scene  3:  Start 00:00:05.756 /  Frame 138, End 00:00:10.594 / Frame 254\n",
      "    Scene  4:  Start 00:00:10.594 /  Frame 254, End 00:00:12.554 / Frame 301\n",
      "    Scene  5:  Start 00:00:12.554 /  Frame 301, End 00:00:14.139 / Frame 339\n",
      "    Scene  6:  Start 00:00:14.139 /  Frame 339, End 00:00:15.682 / Frame 376\n",
      "    Scene  7:  Start 00:00:15.682 /  Frame 376, End 00:00:17.893 / Frame 429\n",
      "    Scene  8:  Start 00:00:17.893 /  Frame 429, End 00:00:20.020 / Frame 480\n",
      "    Scene  9:  Start 00:00:20.020 /  Frame 480, End 00:00:20.938 / Frame 502\n",
      "    Scene 10:  Start 00:00:20.938 /  Frame 502, End 00:00:21.813 / Frame 523\n",
      "    Scene 11:  Start 00:00:21.813 /  Frame 523, End 00:00:22.564 / Frame 541\n",
      "    Scene 12:  Start 00:00:22.564 /  Frame 541, End 00:00:23.732 / Frame 569\n",
      "    Scene 13:  Start 00:00:23.732 /  Frame 569, End 00:00:24.816 / Frame 595\n",
      "    Scene 14:  Start 00:00:24.816 /  Frame 595, End 00:00:30.864 / Frame 740\n",
      "    Scene 15:  Start 00:00:30.864 /  Frame 740, End 00:00:32.824 / Frame 787\n",
      "    Scene 16:  Start 00:00:32.824 /  Frame 787, End 00:00:34.284 / Frame 822\n",
      "    Scene 17:  Start 00:00:34.284 /  Frame 822, End 00:00:35.118 / Frame 842\n",
      "    Scene 18:  Start 00:00:35.118 /  Frame 842, End 00:00:36.328 / Frame 871\n",
      "    Scene 19:  Start 00:00:36.328 /  Frame 871, End 00:00:38.080 / Frame 913\n",
      "    Scene 20:  Start 00:00:38.080 /  Frame 913, End 00:00:41.750 / Frame 1001\n",
      "    Scene 21:  Start 00:00:41.750 /  Frame 1001, End 00:00:44.753 / Frame 1073\n",
      "    Scene 22:  Start 00:00:44.753 /  Frame 1073, End 00:00:47.923 / Frame 1149\n",
      "    Scene 23:  Start 00:00:47.923 /  Frame 1149, End 00:00:48.924 / Frame 1173\n",
      "    Scene 24:  Start 00:00:48.924 /  Frame 1173, End 00:00:50.592 / Frame 1213\n",
      "    Scene 25:  Start 00:00:50.592 /  Frame 1213, End 00:00:51.718 / Frame 1240\n",
      "    Scene 26:  Start 00:00:51.718 /  Frame 1240, End 00:00:52.803 / Frame 1266\n",
      "    Scene 27:  Start 00:00:52.803 /  Frame 1266, End 00:00:53.762 / Frame 1289\n",
      "    Scene 28:  Start 00:00:53.762 /  Frame 1289, End 00:00:54.638 / Frame 1310\n",
      "    Scene 29:  Start 00:00:54.638 /  Frame 1310, End 00:00:55.639 / Frame 1334\n",
      "    Scene 30:  Start 00:00:55.639 /  Frame 1334, End 00:00:57.224 / Frame 1372\n",
      "    Scene 31:  Start 00:00:57.224 /  Frame 1372, End 00:01:06.316 / Frame 1590\n",
      "    Scene 32:  Start 00:01:06.316 /  Frame 1590, End 00:01:07.025 / Frame 1607\n",
      "<class 'int'>\n",
      "0\n"
     ]
    },
    {
     "name": "stderr",
     "output_type": "stream",
     "text": [
      "\n"
     ]
    }
   ],
   "source": [
    "test2_1=split_video_into_scenes(\"Moana.mp4\",40.0)"
   ]
  },
  {
   "cell_type": "code",
   "execution_count": 7,
   "id": "f5690fc7",
   "metadata": {},
   "outputs": [
    {
     "name": "stderr",
     "output_type": "stream",
     "text": [
      "Detected: 0 | Progress:   0%|          | 0/720 [00:00<?, ?frames/s]"
     ]
    },
    {
     "name": "stderr",
     "output_type": "stream",
     "text": [
      "Detected: 20 | Progress: 100%|██████████| 720/720 [00:03<00:00, 189.89frames/s]\n",
      "100%|██████████| 720/720 [00:16<00:00, 44.14frame/s]"
     ]
    },
    {
     "name": "stdout",
     "output_type": "stream",
     "text": [
      "Number of Scenes:  21\n",
      "    Scene  1:  Start 00:00:00.000 /  Frame 0, End 00:00:01.501 / Frame 36\n",
      "    Scene  2:  Start 00:00:01.501 /  Frame 36, End 00:00:02.920 / Frame 70\n",
      "    Scene  3:  Start 00:00:02.920 /  Frame 70, End 00:00:03.712 / Frame 89\n",
      "    Scene  4:  Start 00:00:03.712 /  Frame 89, End 00:00:04.922 / Frame 118\n",
      "    Scene  5:  Start 00:00:04.922 /  Frame 118, End 00:00:06.423 / Frame 154\n",
      "    Scene  6:  Start 00:00:06.423 /  Frame 154, End 00:00:07.174 / Frame 172\n",
      "    Scene  7:  Start 00:00:07.174 /  Frame 172, End 00:00:07.966 / Frame 191\n",
      "    Scene  8:  Start 00:00:07.966 /  Frame 191, End 00:00:09.468 / Frame 227\n",
      "    Scene  9:  Start 00:00:09.468 /  Frame 227, End 00:00:10.427 / Frame 250\n",
      "    Scene 10:  Start 00:00:10.427 /  Frame 250, End 00:00:12.471 / Frame 299\n",
      "    Scene 11:  Start 00:00:12.471 /  Frame 299, End 00:00:13.222 / Frame 317\n",
      "    Scene 12:  Start 00:00:13.222 /  Frame 317, End 00:00:14.514 / Frame 348\n",
      "    Scene 13:  Start 00:00:14.514 /  Frame 348, End 00:00:15.724 / Frame 377\n",
      "    Scene 14:  Start 00:00:15.724 /  Frame 377, End 00:00:18.435 / Frame 442\n",
      "    Scene 15:  Start 00:00:18.435 /  Frame 442, End 00:00:20.145 / Frame 483\n",
      "    Scene 16:  Start 00:00:20.145 /  Frame 483, End 00:00:21.063 / Frame 505\n",
      "    Scene 17:  Start 00:00:21.063 /  Frame 505, End 00:00:22.940 / Frame 550\n",
      "    Scene 18:  Start 00:00:22.940 /  Frame 550, End 00:00:24.233 / Frame 581\n",
      "    Scene 19:  Start 00:00:24.233 /  Frame 581, End 00:00:26.693 / Frame 640\n",
      "    Scene 20:  Start 00:00:26.693 /  Frame 640, End 00:00:28.528 / Frame 684\n",
      "    Scene 21:  Start 00:00:28.528 /  Frame 684, End 00:00:30.030 / Frame 720\n",
      "<class 'int'>\n",
      "0\n"
     ]
    },
    {
     "name": "stderr",
     "output_type": "stream",
     "text": [
      "\n"
     ]
    }
   ],
   "source": [
    "test3=split_video_into_scenes(\"Applepay.mp4\")"
   ]
  },
  {
   "cell_type": "markdown",
   "id": "9648098d",
   "metadata": {},
   "source": [
    "When Threshold increases, number of scens get reduced. Here threshold set by 27 by default. eventhough it can be overwrite when call the funtion."
   ]
  },
  {
   "cell_type": "code",
   "execution_count": null,
   "id": "87b09583",
   "metadata": {},
   "outputs": [],
   "source": []
  },
  {
   "cell_type": "code",
   "execution_count": null,
   "id": "3b94a7d6",
   "metadata": {},
   "outputs": [],
   "source": []
  },
  {
   "cell_type": "code",
   "execution_count": null,
   "id": "267811de",
   "metadata": {},
   "outputs": [],
   "source": []
  }
 ],
 "metadata": {
  "kernelspec": {
   "display_name": "Python 3 (ipykernel)",
   "language": "python",
   "name": "python3"
  },
  "language_info": {
   "codemirror_mode": {
    "name": "ipython",
    "version": 3
   },
   "file_extension": ".py",
   "mimetype": "text/x-python",
   "name": "python",
   "nbconvert_exporter": "python",
   "pygments_lexer": "ipython3",
   "version": "3.10.9"
  }
 },
 "nbformat": 4,
 "nbformat_minor": 5
}
