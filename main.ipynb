{
 "cells": [
  {
   "cell_type": "code",
   "execution_count": 9,
   "metadata": {},
   "outputs": [],
   "source": [
    "import subprocess\n",
    "import io\n",
    "\n",
    "input_file = './assets/Moana.mp4'\n",
    "\n",
    "# Run the ffmpeg command and capture the output in a variable\n",
    "cmd = f'ffmpeg -i {input_file} -f mp4 -s 1280x720 -b:v 1000k -c:a mp3 -'\n",
    "proc = subprocess.Popen(cmd, stdout=subprocess.PIPE, shell=True)\n",
    "output, _ = proc.communicate()\n",
    "\n",
    "# Store the output in an in-memory byte stream\n",
    "output_stream = io.BytesIO(output)"
   ]
  },
  {
   "cell_type": "code",
   "execution_count": 10,
   "metadata": {},
   "outputs": [
    {
     "data": {
      "text/plain": [
       "<_io.BytesIO at 0x1d380767470>"
      ]
     },
     "execution_count": 10,
     "metadata": {},
     "output_type": "execute_result"
    }
   ],
   "source": [
    "output_stream"
   ]
  },
  {
   "cell_type": "code",
   "execution_count": null,
   "metadata": {},
   "outputs": [],
   "source": []
  }
 ],
 "metadata": {
  "kernelspec": {
   "display_name": "capstoneProject",
   "language": "python",
   "name": "python3"
  },
  "language_info": {
   "codemirror_mode": {
    "name": "ipython",
    "version": 3
   },
   "file_extension": ".py",
   "mimetype": "text/x-python",
   "name": "python",
   "nbconvert_exporter": "python",
   "pygments_lexer": "ipython3",
   "version": "3.12.1"
  }
 },
 "nbformat": 4,
 "nbformat_minor": 2
}
